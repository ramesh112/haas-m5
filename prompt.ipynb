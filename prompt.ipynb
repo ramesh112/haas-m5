{
 "cells": [
  {
   "cell_type": "markdown",
   "metadata": {
    "id": "CcUT6Fon_qRE"
   },
   "source": [
    "### Required Assignment 5.1: Will the Customer Accept the Coupon?\n",
    "\n",
    "**Context**\n",
    "\n",
    "Imagine driving through town and a coupon is delivered to your cell phone for a restaurant near where you are driving. Would you accept that coupon and take a short detour to the restaurant? Would you accept the coupon but use it on a subsequent trip? Would you ignore the coupon entirely? What if the coupon was for a bar instead of a restaurant? What about a coffee house? Would you accept a bar coupon with a minor passenger in the car? What about if it was just you and your partner in the car? Would weather impact the rate of acceptance? What about the time of day?\n",
    "\n",
    "Obviously, proximity to the business is a factor on whether the coupon is delivered to the driver or not, but what are the factors that determine whether a driver accepts the coupon once it is delivered to them? How would you determine whether a driver is likely to accept a coupon?\n",
    "\n",
    "**Overview**\n",
    "\n",
    "The goal of this project is to use what you know about visualizations and probability distributions to distinguish between customers who accepted a driving coupon versus those that did not.\n",
    "\n",
    "**Data**\n",
    "\n",
    "This data comes to us from the UCI Machine Learning repository and was collected via a survey on Amazon Mechanical Turk. The survey describes different driving scenarios including the destination, current time, weather, passenger, etc., and then ask the person whether he will accept the coupon if he is the driver. Answers that the user will drive there ‘right away’ or ‘later before the coupon expires’ are labeled as ‘Y = 1’ and answers ‘no, I do not want the coupon’ are labeled as ‘Y = 0’.  There are five different types of coupons -- less expensive restaurants (under \\$20), coffee houses, carry out & take away, bar, and more expensive restaurants (\\$20 - $50)."
   ]
  },
  {
   "cell_type": "markdown",
   "metadata": {
    "id": "1wORvMBJ_qRF"
   },
   "source": [
    "**Deliverables**\n",
    "\n",
    "Your final product should be a brief report that highlights the differences between customers who did and did not accept the coupons.  To explore the data you will utilize your knowledge of plotting, statistical summaries, and visualization using Python. You will publish your findings in a public facing github repository as your first portfolio piece.\n",
    "\n",
    "\n",
    "\n"
   ]
  },
  {
   "cell_type": "markdown",
   "metadata": {
    "id": "pG6_Ym6q_qRG"
   },
   "source": [
    "### Data Description\n",
    "Keep in mind that these values mentioned below are average values.\n",
    "\n",
    "The attributes of this data set include:\n",
    "1. User attributes\n",
    "    -  Gender: male, female\n",
    "    -  Age: below 21, 21 to 25, 26 to 30, etc.\n",
    "    -  Marital Status: single, married partner, unmarried partner, or widowed\n",
    "    -  Number of children: 0, 1, or more than 1\n",
    "    -  Education: high school, bachelors degree, associates degree, or graduate degree\n",
    "    -  Occupation: architecture & engineering, business & financial, etc.\n",
    "    -  Annual income: less than \\\\$12500, \\\\$12500 - \\\\$24999, \\\\$25000 - \\\\$37499, etc.\n",
    "    -  Number of times that he/she goes to a bar: 0, less than 1, 1 to 3, 4 to 8 or greater than 8\n",
    "    -  Number of times that he/she buys takeaway food: 0, less than 1, 1 to 3, 4 to 8 or greater\n",
    "    than 8\n",
    "    -  Number of times that he/she goes to a coffee house: 0, less than 1, 1 to 3, 4 to 8 or\n",
    "    greater than 8\n",
    "    -  Number of times that he/she eats at a restaurant with average expense less than \\\\$20 per\n",
    "    person: 0, less than 1, 1 to 3, 4 to 8 or greater than 8\n",
    "    -  Number of times that he/she goes to a bar: 0, less than 1, 1 to 3, 4 to 8 or greater than 8\n",
    "    \n",
    "\n",
    "2. Contextual attributes\n",
    "    - Driving destination: home, work, or no urgent destination\n",
    "    - Location of user, coupon and destination: we provide a map to show the geographical\n",
    "    location of the user, destination, and the venue, and we mark the distance between each\n",
    "    two places with time of driving. The user can see whether the venue is in the same\n",
    "    direction as the destination.\n",
    "    - Weather: sunny, rainy, or snowy\n",
    "    - Temperature: 30F, 55F, or 80F\n",
    "    - Time: 10AM, 2PM, or 6PM\n",
    "    - Passenger: alone, partner, kid(s), or friend(s)\n",
    "\n",
    "\n",
    "3. Coupon attributes\n",
    "    - time before it expires: 2 hours or one day"
   ]
  },
  {
   "cell_type": "code",
   "execution_count": 1,
   "metadata": {
    "id": "dzNoP3o__qRG"
   },
   "outputs": [],
   "source": [
    "import matplotlib.pyplot as plt\n",
    "import seaborn as sns\n",
    "import pandas as pd\n",
    "import numpy as np"
   ]
  },
  {
   "cell_type": "markdown",
   "metadata": {
    "id": "Ct8pI1uE_qRG"
   },
   "source": [
    "### Problems\n",
    "\n",
    "Use the prompts below to get started with your data analysis.  \n",
    "\n",
    "1. Read in the `coupons.csv` file.\n",
    "\n",
    "\n"
   ]
  },
  {
   "cell_type": "code",
   "execution_count": 2,
   "metadata": {
    "id": "X0vbffYg_qRH"
   },
   "outputs": [],
   "source": [
    "data = pd.read_csv('data/coupons.csv')"
   ]
  },
  {
   "cell_type": "code",
   "execution_count": 3,
   "metadata": {
    "id": "TXofQ_DF_qRH",
    "outputId": "2fc96a2c-1112-4b54-f24f-dbb9bc88abfb"
   },
   "outputs": [
    {
     "data": {
      "text/html": [
       "<div>\n",
       "<style scoped>\n",
       "    .dataframe tbody tr th:only-of-type {\n",
       "        vertical-align: middle;\n",
       "    }\n",
       "\n",
       "    .dataframe tbody tr th {\n",
       "        vertical-align: top;\n",
       "    }\n",
       "\n",
       "    .dataframe thead th {\n",
       "        text-align: right;\n",
       "    }\n",
       "</style>\n",
       "<table border=\"1\" class=\"dataframe\">\n",
       "  <thead>\n",
       "    <tr style=\"text-align: right;\">\n",
       "      <th></th>\n",
       "      <th>destination</th>\n",
       "      <th>passanger</th>\n",
       "      <th>weather</th>\n",
       "      <th>temperature</th>\n",
       "      <th>time</th>\n",
       "      <th>coupon</th>\n",
       "      <th>expiration</th>\n",
       "      <th>gender</th>\n",
       "      <th>age</th>\n",
       "      <th>maritalStatus</th>\n",
       "      <th>...</th>\n",
       "      <th>CoffeeHouse</th>\n",
       "      <th>CarryAway</th>\n",
       "      <th>RestaurantLessThan20</th>\n",
       "      <th>Restaurant20To50</th>\n",
       "      <th>toCoupon_GEQ5min</th>\n",
       "      <th>toCoupon_GEQ15min</th>\n",
       "      <th>toCoupon_GEQ25min</th>\n",
       "      <th>direction_same</th>\n",
       "      <th>direction_opp</th>\n",
       "      <th>Y</th>\n",
       "    </tr>\n",
       "  </thead>\n",
       "  <tbody>\n",
       "    <tr>\n",
       "      <th>0</th>\n",
       "      <td>No Urgent Place</td>\n",
       "      <td>Alone</td>\n",
       "      <td>Sunny</td>\n",
       "      <td>55</td>\n",
       "      <td>2PM</td>\n",
       "      <td>Restaurant(&lt;20)</td>\n",
       "      <td>1d</td>\n",
       "      <td>Female</td>\n",
       "      <td>21</td>\n",
       "      <td>Unmarried partner</td>\n",
       "      <td>...</td>\n",
       "      <td>never</td>\n",
       "      <td>NaN</td>\n",
       "      <td>4~8</td>\n",
       "      <td>1~3</td>\n",
       "      <td>1</td>\n",
       "      <td>0</td>\n",
       "      <td>0</td>\n",
       "      <td>0</td>\n",
       "      <td>1</td>\n",
       "      <td>1</td>\n",
       "    </tr>\n",
       "    <tr>\n",
       "      <th>1</th>\n",
       "      <td>No Urgent Place</td>\n",
       "      <td>Friend(s)</td>\n",
       "      <td>Sunny</td>\n",
       "      <td>80</td>\n",
       "      <td>10AM</td>\n",
       "      <td>Coffee House</td>\n",
       "      <td>2h</td>\n",
       "      <td>Female</td>\n",
       "      <td>21</td>\n",
       "      <td>Unmarried partner</td>\n",
       "      <td>...</td>\n",
       "      <td>never</td>\n",
       "      <td>NaN</td>\n",
       "      <td>4~8</td>\n",
       "      <td>1~3</td>\n",
       "      <td>1</td>\n",
       "      <td>0</td>\n",
       "      <td>0</td>\n",
       "      <td>0</td>\n",
       "      <td>1</td>\n",
       "      <td>0</td>\n",
       "    </tr>\n",
       "    <tr>\n",
       "      <th>2</th>\n",
       "      <td>No Urgent Place</td>\n",
       "      <td>Friend(s)</td>\n",
       "      <td>Sunny</td>\n",
       "      <td>80</td>\n",
       "      <td>10AM</td>\n",
       "      <td>Carry out &amp; Take away</td>\n",
       "      <td>2h</td>\n",
       "      <td>Female</td>\n",
       "      <td>21</td>\n",
       "      <td>Unmarried partner</td>\n",
       "      <td>...</td>\n",
       "      <td>never</td>\n",
       "      <td>NaN</td>\n",
       "      <td>4~8</td>\n",
       "      <td>1~3</td>\n",
       "      <td>1</td>\n",
       "      <td>1</td>\n",
       "      <td>0</td>\n",
       "      <td>0</td>\n",
       "      <td>1</td>\n",
       "      <td>1</td>\n",
       "    </tr>\n",
       "    <tr>\n",
       "      <th>3</th>\n",
       "      <td>No Urgent Place</td>\n",
       "      <td>Friend(s)</td>\n",
       "      <td>Sunny</td>\n",
       "      <td>80</td>\n",
       "      <td>2PM</td>\n",
       "      <td>Coffee House</td>\n",
       "      <td>2h</td>\n",
       "      <td>Female</td>\n",
       "      <td>21</td>\n",
       "      <td>Unmarried partner</td>\n",
       "      <td>...</td>\n",
       "      <td>never</td>\n",
       "      <td>NaN</td>\n",
       "      <td>4~8</td>\n",
       "      <td>1~3</td>\n",
       "      <td>1</td>\n",
       "      <td>1</td>\n",
       "      <td>0</td>\n",
       "      <td>0</td>\n",
       "      <td>1</td>\n",
       "      <td>0</td>\n",
       "    </tr>\n",
       "    <tr>\n",
       "      <th>4</th>\n",
       "      <td>No Urgent Place</td>\n",
       "      <td>Friend(s)</td>\n",
       "      <td>Sunny</td>\n",
       "      <td>80</td>\n",
       "      <td>2PM</td>\n",
       "      <td>Coffee House</td>\n",
       "      <td>1d</td>\n",
       "      <td>Female</td>\n",
       "      <td>21</td>\n",
       "      <td>Unmarried partner</td>\n",
       "      <td>...</td>\n",
       "      <td>never</td>\n",
       "      <td>NaN</td>\n",
       "      <td>4~8</td>\n",
       "      <td>1~3</td>\n",
       "      <td>1</td>\n",
       "      <td>1</td>\n",
       "      <td>0</td>\n",
       "      <td>0</td>\n",
       "      <td>1</td>\n",
       "      <td>0</td>\n",
       "    </tr>\n",
       "  </tbody>\n",
       "</table>\n",
       "<p>5 rows × 26 columns</p>\n",
       "</div>"
      ],
      "text/plain": [
       "       destination  passanger weather  temperature  time  \\\n",
       "0  No Urgent Place      Alone   Sunny           55   2PM   \n",
       "1  No Urgent Place  Friend(s)   Sunny           80  10AM   \n",
       "2  No Urgent Place  Friend(s)   Sunny           80  10AM   \n",
       "3  No Urgent Place  Friend(s)   Sunny           80   2PM   \n",
       "4  No Urgent Place  Friend(s)   Sunny           80   2PM   \n",
       "\n",
       "                  coupon expiration  gender age      maritalStatus  ...  \\\n",
       "0        Restaurant(<20)         1d  Female  21  Unmarried partner  ...   \n",
       "1           Coffee House         2h  Female  21  Unmarried partner  ...   \n",
       "2  Carry out & Take away         2h  Female  21  Unmarried partner  ...   \n",
       "3           Coffee House         2h  Female  21  Unmarried partner  ...   \n",
       "4           Coffee House         1d  Female  21  Unmarried partner  ...   \n",
       "\n",
       "   CoffeeHouse CarryAway RestaurantLessThan20 Restaurant20To50  \\\n",
       "0        never       NaN                  4~8              1~3   \n",
       "1        never       NaN                  4~8              1~3   \n",
       "2        never       NaN                  4~8              1~3   \n",
       "3        never       NaN                  4~8              1~3   \n",
       "4        never       NaN                  4~8              1~3   \n",
       "\n",
       "  toCoupon_GEQ5min toCoupon_GEQ15min toCoupon_GEQ25min direction_same  \\\n",
       "0                1                 0                 0              0   \n",
       "1                1                 0                 0              0   \n",
       "2                1                 1                 0              0   \n",
       "3                1                 1                 0              0   \n",
       "4                1                 1                 0              0   \n",
       "\n",
       "  direction_opp  Y  \n",
       "0             1  1  \n",
       "1             1  0  \n",
       "2             1  1  \n",
       "3             1  0  \n",
       "4             1  0  \n",
       "\n",
       "[5 rows x 26 columns]"
      ]
     },
     "execution_count": 3,
     "metadata": {},
     "output_type": "execute_result"
    }
   ],
   "source": [
    "data.head()"
   ]
  },
  {
   "cell_type": "markdown",
   "metadata": {
    "id": "GcDs78ZH_qRH"
   },
   "source": [
    "2. Investigate the dataset for missing or problematic data."
   ]
  },
  {
   "cell_type": "code",
   "execution_count": 4,
   "metadata": {
    "id": "6CwL6oWj_qRH"
   },
   "outputs": [
    {
     "name": "stdout",
     "output_type": "stream",
     "text": [
      "destination                 0\n",
      "passanger                   0\n",
      "weather                     0\n",
      "temperature                 0\n",
      "time                        0\n",
      "coupon                      0\n",
      "expiration                  0\n",
      "gender                      0\n",
      "age                         0\n",
      "maritalStatus               0\n",
      "has_children                0\n",
      "education                   0\n",
      "occupation                  0\n",
      "income                      0\n",
      "car                     12576\n",
      "Bar                       107\n",
      "CoffeeHouse               217\n",
      "CarryAway                 151\n",
      "RestaurantLessThan20      130\n",
      "Restaurant20To50          189\n",
      "toCoupon_GEQ5min            0\n",
      "toCoupon_GEQ15min           0\n",
      "toCoupon_GEQ25min           0\n",
      "direction_same              0\n",
      "direction_opp               0\n",
      "Y                           0\n",
      "dtype: int64\n",
      "74\n",
      "<class 'pandas.core.frame.DataFrame'>\n",
      "RangeIndex: 12684 entries, 0 to 12683\n",
      "Data columns (total 26 columns):\n",
      " #   Column                Non-Null Count  Dtype \n",
      "---  ------                --------------  ----- \n",
      " 0   destination           12684 non-null  object\n",
      " 1   passanger             12684 non-null  object\n",
      " 2   weather               12684 non-null  object\n",
      " 3   temperature           12684 non-null  int64 \n",
      " 4   time                  12684 non-null  object\n",
      " 5   coupon                12684 non-null  object\n",
      " 6   expiration            12684 non-null  object\n",
      " 7   gender                12684 non-null  object\n",
      " 8   age                   12684 non-null  object\n",
      " 9   maritalStatus         12684 non-null  object\n",
      " 10  has_children          12684 non-null  int64 \n",
      " 11  education             12684 non-null  object\n",
      " 12  occupation            12684 non-null  object\n",
      " 13  income                12684 non-null  object\n",
      " 14  car                   108 non-null    object\n",
      " 15  Bar                   12577 non-null  object\n",
      " 16  CoffeeHouse           12467 non-null  object\n",
      " 17  CarryAway             12533 non-null  object\n",
      " 18  RestaurantLessThan20  12554 non-null  object\n",
      " 19  Restaurant20To50      12495 non-null  object\n",
      " 20  toCoupon_GEQ5min      12684 non-null  int64 \n",
      " 21  toCoupon_GEQ15min     12684 non-null  int64 \n",
      " 22  toCoupon_GEQ25min     12684 non-null  int64 \n",
      " 23  direction_same        12684 non-null  int64 \n",
      " 24  direction_opp         12684 non-null  int64 \n",
      " 25  Y                     12684 non-null  int64 \n",
      "dtypes: int64(8), object(18)\n",
      "memory usage: 2.5+ MB\n",
      "destination\n",
      "destination\n",
      "No Urgent Place    6283\n",
      "Home               3237\n",
      "Work               3164\n",
      "Name: count, dtype: int64\n",
      "passanger\n",
      "passanger\n",
      "Alone        7305\n",
      "Friend(s)    3298\n",
      "Partner      1075\n",
      "Kid(s)       1006\n",
      "Name: count, dtype: int64\n",
      "weather\n",
      "weather\n",
      "Sunny    10069\n",
      "Snowy     1405\n",
      "Rainy     1210\n",
      "Name: count, dtype: int64\n",
      "temperature\n",
      "temperature\n",
      "80    6528\n",
      "55    3840\n",
      "30    2316\n",
      "Name: count, dtype: int64\n",
      "time\n",
      "time\n",
      "6PM     3230\n",
      "7AM     3164\n",
      "10AM    2275\n",
      "2PM     2009\n",
      "10PM    2006\n",
      "Name: count, dtype: int64\n",
      "coupon\n",
      "coupon\n",
      "Coffee House             3996\n",
      "Restaurant(<20)          2786\n",
      "Carry out & Take away    2393\n",
      "Bar                      2017\n",
      "Restaurant(20-50)        1492\n",
      "Name: count, dtype: int64\n",
      "expiration\n",
      "expiration\n",
      "1d    7091\n",
      "2h    5593\n",
      "Name: count, dtype: int64\n",
      "gender\n",
      "gender\n",
      "Female    6511\n",
      "Male      6173\n",
      "Name: count, dtype: int64\n",
      "age\n",
      "age\n",
      "21         2653\n",
      "26         2559\n",
      "31         2039\n",
      "50plus     1788\n",
      "36         1319\n",
      "41         1093\n",
      "46          686\n",
      "below21     547\n",
      "Name: count, dtype: int64\n",
      "maritalStatus\n",
      "maritalStatus\n",
      "Married partner      5100\n",
      "Single               4752\n",
      "Unmarried partner    2186\n",
      "Divorced              516\n",
      "Widowed               130\n",
      "Name: count, dtype: int64\n",
      "has_children\n",
      "has_children\n",
      "0    7431\n",
      "1    5253\n",
      "Name: count, dtype: int64\n",
      "education\n",
      "education\n",
      "Some college - no degree                  4351\n",
      "Bachelors degree                          4335\n",
      "Graduate degree (Masters or Doctorate)    1852\n",
      "Associates degree                         1153\n",
      "High School Graduate                       905\n",
      "Some High School                            88\n",
      "Name: count, dtype: int64\n",
      "occupation\n",
      "occupation\n",
      "Unemployed                                   1870\n",
      "Student                                      1584\n",
      "Computer & Mathematical                      1408\n",
      "Sales & Related                              1093\n",
      "Education&Training&Library                    943\n",
      "Management                                    838\n",
      "Office & Administrative Support               639\n",
      "Arts Design Entertainment Sports & Media      629\n",
      "Business & Financial                          544\n",
      "Retired                                       495\n",
      "Food Preparation & Serving Related            298\n",
      "Healthcare Practitioners & Technical          244\n",
      "Healthcare Support                            242\n",
      "Community & Social Services                   241\n",
      "Legal                                         219\n",
      "Transportation & Material Moving              218\n",
      "Architecture & Engineering                    175\n",
      "Personal Care & Service                       175\n",
      "Protective Service                            175\n",
      "Life Physical Social Science                  170\n",
      "Construction & Extraction                     154\n",
      "Installation Maintenance & Repair             133\n",
      "Production Occupations                        110\n",
      "Building & Grounds Cleaning & Maintenance      44\n",
      "Farming Fishing & Forestry                     43\n",
      "Name: count, dtype: int64\n",
      "income\n",
      "income\n",
      "$25000 - $37499     2013\n",
      "$12500 - $24999     1831\n",
      "$37500 - $49999     1805\n",
      "$100000 or More     1736\n",
      "$50000 - $62499     1659\n",
      "Less than $12500    1042\n",
      "$87500 - $99999      895\n",
      "$75000 - $87499      857\n",
      "$62500 - $74999      846\n",
      "Name: count, dtype: int64\n",
      "car\n",
      "car\n",
      "Scooter and motorcycle                      22\n",
      "Mazda5                                      22\n",
      "do not drive                                22\n",
      "crossover                                   21\n",
      "Car that is too old to install Onstar :D    21\n",
      "Name: count, dtype: int64\n",
      "Bar\n",
      "Bar\n",
      "never    5197\n",
      "less1    3482\n",
      "1~3      2473\n",
      "4~8      1076\n",
      "gt8       349\n",
      "Name: count, dtype: int64\n",
      "CoffeeHouse\n",
      "CoffeeHouse\n",
      "less1    3385\n",
      "1~3      3225\n",
      "never    2962\n",
      "4~8      1784\n",
      "gt8      1111\n",
      "Name: count, dtype: int64\n",
      "CarryAway\n",
      "CarryAway\n",
      "1~3      4672\n",
      "4~8      4258\n",
      "less1    1856\n",
      "gt8      1594\n",
      "never     153\n",
      "Name: count, dtype: int64\n",
      "RestaurantLessThan20\n",
      "RestaurantLessThan20\n",
      "1~3      5376\n",
      "4~8      3580\n",
      "less1    2093\n",
      "gt8      1285\n",
      "never     220\n",
      "Name: count, dtype: int64\n",
      "Restaurant20To50\n",
      "Restaurant20To50\n",
      "less1    6077\n",
      "1~3      3290\n",
      "never    2136\n",
      "4~8       728\n",
      "gt8       264\n",
      "Name: count, dtype: int64\n",
      "toCoupon_GEQ5min\n",
      "toCoupon_GEQ5min\n",
      "1    12684\n",
      "Name: count, dtype: int64\n",
      "toCoupon_GEQ15min\n",
      "toCoupon_GEQ15min\n",
      "1    7122\n",
      "0    5562\n",
      "Name: count, dtype: int64\n",
      "toCoupon_GEQ25min\n",
      "toCoupon_GEQ25min\n",
      "0    11173\n",
      "1     1511\n",
      "Name: count, dtype: int64\n",
      "direction_same\n",
      "direction_same\n",
      "0    9960\n",
      "1    2724\n",
      "Name: count, dtype: int64\n",
      "direction_opp\n",
      "direction_opp\n",
      "1    9960\n",
      "0    2724\n",
      "Name: count, dtype: int64\n",
      "Y\n",
      "Y\n",
      "1    7210\n",
      "0    5474\n",
      "Name: count, dtype: int64\n"
     ]
    }
   ],
   "source": [
    "#print all null values in the dataframe 'data'\n",
    "print(data.isnull().sum())\n",
    "#check for duplicates\n",
    "print(data.duplicated().sum())\n",
    "#view duplicates\n",
    "data[data.duplicated(keep=False)]\n",
    "#check for outliers in numberical columns\n",
    "data.describe()\n",
    "#Get info on the dataframe on how many rows with non-null values\n",
    "data.info()\n",
    "#look at values for each column for any discrepencies\n",
    "for column in data.columns:\n",
    "  print(column)\n",
    "  print(data[column].value_counts())\n"
   ]
  },
  {
   "cell_type": "markdown",
   "metadata": {
    "id": "bSdVSpYB_qRH"
   },
   "source": [
    "3. Decide what to do about your missing data -- drop, replace, other..."
   ]
  },
  {
   "cell_type": "code",
   "execution_count": 5,
   "metadata": {
    "id": "tyvoAC5F_qRI"
   },
   "outputs": [
    {
     "name": "stdout",
     "output_type": "stream",
     "text": [
      "<class 'pandas.core.frame.DataFrame'>\n",
      "Index: 12007 entries, 22 to 12683\n",
      "Data columns (total 25 columns):\n",
      " #   Column                Non-Null Count  Dtype \n",
      "---  ------                --------------  ----- \n",
      " 0   destination           12007 non-null  object\n",
      " 1   passanger             12007 non-null  object\n",
      " 2   weather               12007 non-null  object\n",
      " 3   temperature           12007 non-null  int64 \n",
      " 4   time                  12007 non-null  object\n",
      " 5   coupon                12007 non-null  object\n",
      " 6   expiration            12007 non-null  object\n",
      " 7   gender                12007 non-null  object\n",
      " 8   age                   12007 non-null  object\n",
      " 9   maritalStatus         12007 non-null  object\n",
      " 10  has_children          12007 non-null  int64 \n",
      " 11  education             12007 non-null  object\n",
      " 12  occupation            12007 non-null  object\n",
      " 13  income                12007 non-null  object\n",
      " 14  Bar                   12007 non-null  object\n",
      " 15  CoffeeHouse           12007 non-null  object\n",
      " 16  CarryAway             12007 non-null  object\n",
      " 17  RestaurantLessThan20  12007 non-null  object\n",
      " 18  Restaurant20To50      12007 non-null  object\n",
      " 19  toCoupon_GEQ5min      12007 non-null  int64 \n",
      " 20  toCoupon_GEQ15min     12007 non-null  int64 \n",
      " 21  toCoupon_GEQ25min     12007 non-null  int64 \n",
      " 22  direction_same        12007 non-null  int64 \n",
      " 23  direction_opp         12007 non-null  int64 \n",
      " 24  Y                     12007 non-null  int64 \n",
      "dtypes: int64(8), object(17)\n",
      "memory usage: 2.4+ MB\n"
     ]
    }
   ],
   "source": [
    "#drop duplicate rows\n",
    "df_unique = data.drop_duplicates()\n",
    "#drop the car column as there are too many NULLs and there is no decision making on that column that is needed\n",
    "df_with_null = df_unique.drop('car', axis=1)\n",
    "#drop the NAN values related rows from all columns. This is okay because that is only 10% of rows and won't effect the analysis.\n",
    "df_cleaned = df_with_null.dropna()\n",
    "df_cleaned.info()\n",
    "# we are keeping the Null value dataframe to see if any analysis does not depend on those columns, then we can use that dataframe."
   ]
  },
  {
   "cell_type": "markdown",
   "metadata": {
    "id": "YE6oJbXd_qRI"
   },
   "source": [
    "4. What proportion of the total observations chose to accept the coupon?\n",
    "\n"
   ]
  },
  {
   "cell_type": "code",
   "execution_count": 6,
   "metadata": {
    "id": "86GGqBTv_qRI"
   },
   "outputs": [
    {
     "data": {
      "text/plain": [
       "Y\n",
       "1    56.8%\n",
       "0    43.2%\n",
       "Name: proportion, dtype: object"
      ]
     },
     "execution_count": 6,
     "metadata": {},
     "output_type": "execute_result"
    }
   ],
   "source": [
    "#Since the 'Y' column does not have any NULL we can 'df_with_null' dataframe to get proportion.Duplicates are removed\n",
    "percentages = df_with_null['Y'].value_counts(normalize=True).mul(100).round(1).astype(str) + '%'\n",
    "percentages"
   ]
  },
  {
   "cell_type": "markdown",
   "metadata": {
    "id": "vflz0DoE_qRI"
   },
   "source": [
    "5. Use a bar plot to visualize the `coupon` column."
   ]
  },
  {
   "cell_type": "code",
   "execution_count": 13,
   "metadata": {
    "id": "dHFh3E45_qRI"
   },
   "outputs": [
    {
     "data": {
      "image/png": "[encoded data removed]",
      "text/plain": [
       "<Figure size 640x480 with 1 Axes>"
      ]
     },
     "metadata": {},
     "output_type": "display_data"
    }
   ],
   "source": [
    "    #Use the dataframe with no duplicates\n",
    "    # Get the frequency of each category\n",
    "    category_counts = df_with_null['coupon'].value_counts()\n",
    "\n",
    "    # Plot the bar chart\n",
    "    colors = ['red', 'green', 'blue', 'purple','teal']\n",
    "    category_counts.plot(kind='bar', color=colors)\n",
    "    # set title and labels\n",
    "    plt.title('Frequency of Coupon')\n",
    "    plt.xlabel('Coupon')\n",
    "    plt.ylabel('Count')\n",
    "    #same the image\n",
    "    plt.savefig('images/coupon_plot.png')\n",
    "    plt.show()\n",
    "\n",
    "\n"
   ]
  },
  {
   "cell_type": "markdown",
   "metadata": {
    "id": "Qw4lCyx2_qRI"
   },
   "source": [
    "6. Use a histogram to visualize the temperature column."
   ]
  },
  {
   "cell_type": "code",
   "execution_count": 15,
   "metadata": {
    "id": "Yg9Anv71_qRI"
   },
   "outputs": [
    {
     "data": {
      "image/png": "[encoded data removed]",
      "text/plain": [
       "<Figure size 640x480 with 1 Axes>"
      ]
     },
     "metadata": {},
     "output_type": "display_data"
    }
   ],
   "source": [
    "#Use the dataframe with no duplicates\n",
    "colors = ['green']\n",
    "df_with_null['temperature'].hist(bins=20,color=colors)\n",
    "# Add a title and labels for clarity (optional)\n",
    "plt.title('Histogram of Temperature Distribution')\n",
    "plt.xlabel('Temperature')\n",
    "plt.ylabel('Frequency')\n",
    "\n",
    "# Display the plot\n",
    "plt.savefig('images/temperature_plot.png')\n",
    "plt.show()\n",
    "\n"
   ]
  },
  {
   "cell_type": "code",
   "execution_count": null,
   "metadata": {
    "id": "zLtOaJQk_qRI"
   },
   "outputs": [],
   "source": []
  },
  {
   "cell_type": "code",
   "execution_count": null,
   "metadata": {
    "id": "7GBHZKBp_qRJ"
   },
   "outputs": [],
   "source": []
  },
  {
   "cell_type": "code",
   "execution_count": null,
   "metadata": {
    "id": "Y5nBUA-j_qRJ"
   },
   "outputs": [],
   "source": []
  },
  {
   "cell_type": "code",
   "execution_count": null,
   "metadata": {
    "id": "ShcUC-Vm_qRJ"
   },
   "outputs": [],
   "source": []
  },
  {
   "cell_type": "markdown",
   "metadata": {
    "id": "FupfgeJk_qRJ"
   },
   "source": [
    "**Investigating the Bar Coupons**\n",
    "\n",
    "Now, we will lead you through an exploration of just the bar related coupons.  \n",
    "\n",
    "1. Create a new `DataFrame` that contains just the bar coupons.\n"
   ]
  },
  {
   "cell_type": "code",
   "execution_count": 9,
   "metadata": {
    "id": "tMBlWuGq_qRJ"
   },
   "outputs": [
    {
     "name": "stdout",
     "output_type": "stream",
     "text": [
      "<class 'pandas.core.frame.DataFrame'>\n",
      "Index: 1906 entries, 24 to 12682\n",
      "Data columns (total 25 columns):\n",
      " #   Column                Non-Null Count  Dtype \n",
      "---  ------                --------------  ----- \n",
      " 0   destination           1906 non-null   object\n",
      " 1   passanger             1906 non-null   object\n",
      " 2   weather               1906 non-null   object\n",
      " 3   temperature           1906 non-null   int64 \n",
      " 4   time                  1906 non-null   object\n",
      " 5   coupon                1906 non-null   object\n",
      " 6   expiration            1906 non-null   object\n",
      " 7   gender                1906 non-null   object\n",
      " 8   age                   1906 non-null   object\n",
      " 9   maritalStatus         1906 non-null   object\n",
      " 10  has_children          1906 non-null   int64 \n",
      " 11  education             1906 non-null   object\n",
      " 12  occupation            1906 non-null   object\n",
      " 13  income                1906 non-null   object\n",
      " 14  Bar                   1906 non-null   object\n",
      " 15  CoffeeHouse           1906 non-null   object\n",
      " 16  CarryAway             1906 non-null   object\n",
      " 17  RestaurantLessThan20  1906 non-null   object\n",
      " 18  Restaurant20To50      1906 non-null   object\n",
      " 19  toCoupon_GEQ5min      1906 non-null   int64 \n",
      " 20  toCoupon_GEQ15min     1906 non-null   int64 \n",
      " 21  toCoupon_GEQ25min     1906 non-null   int64 \n",
      " 22  direction_same        1906 non-null   int64 \n",
      " 23  direction_opp         1906 non-null   int64 \n",
      " 24  Y                     1906 non-null   int64 \n",
      "dtypes: int64(8), object(17)\n",
      "memory usage: 387.2+ KB\n"
     ]
    }
   ],
   "source": [
    "#Get the rows with \"Bar\" value for coupon\n",
    "df_bar =  df_with_null[df_with_null['coupon'] == 'Bar']\n",
    "#we take unique values, as our decision making will be influenced in this case\n",
    "df_bar_unique = df_bar.dropna()\n",
    "df_bar_unique.info()\n"
   ]
  },
  {
   "cell_type": "markdown",
   "metadata": {
    "id": "8ue6uCqf_qRJ"
   },
   "source": [
    "2. What proportion of bar coupons were accepted?\n"
   ]
  },
  {
   "cell_type": "code",
   "execution_count": 10,
   "metadata": {
    "id": "hSdte8Mi_qRK"
   },
   "outputs": [
    {
     "data": {
      "text/plain": [
       "Y\n",
       "0    58.8%\n",
       "1    41.2%\n",
       "Name: proportion, dtype: object"
      ]
     },
     "execution_count": 10,
     "metadata": {},
     "output_type": "execute_result"
    }
   ],
   "source": [
    "#Since the 'Y' column does not have any NULL we can 'df_with_null' dataframe to get proportion.Duplicates are removed\n",
    "percentages_bar = df_bar_unique['Y'].value_counts(normalize=True).mul(100).round(1).astype(str) + '%'\n",
    "percentages_bar"
   ]
  },
  {
   "cell_type": "markdown",
   "metadata": {
    "id": "85nA_iEi_qRK"
   },
   "source": [
    "Roughly 41% of the folks accepted the bar coupon"
   ]
  },
  {
   "cell_type": "markdown",
   "metadata": {
    "id": "85nA_iEi_qRK"
   },
   "source": [
    "3. Compare the acceptance rate between those who went to a bar 3 or fewer times a month to those who went more.\n"
   ]
  },
  {
   "cell_type": "code",
   "execution_count": 11,
   "metadata": {
    "id": "LBOrN-XM_qRK"
   },
   "outputs": [
    {
     "name": "stdout",
     "output_type": "stream",
     "text": [
      "Y\n",
      "0    62.8%\n",
      "1    37.2%\n",
      "Name: proportion, dtype: object\n",
      "Y\n",
      "1    76.2%\n",
      "0    23.8%\n",
      "Name: proportion, dtype: object\n"
     ]
    }
   ],
   "source": [
    "#rows with less than three bar going people.\n",
    "df_bar_less_than_three = df_bar_unique[(df_bar_unique['Bar'] == 'never')|(df_bar_unique['Bar'] == 'less1')|(df_bar_unique['Bar'] == '1~3')]\n",
    "#acceptance rate\n",
    "percentages_bar_less_than_three = df_bar_less_than_three['Y'].value_counts(normalize=True).mul(100).round(1).astype(str) + '%'\n",
    "print(percentages_bar_less_than_three)\n",
    "#this code does negative of above logic to get all rows with more than three bar going people\n",
    "df_bar_more_than_three = df_bar_unique[~((df_bar_unique['Bar'] == 'never')|(df_bar_unique['Bar'] == 'less1')|(df_bar_unique['Bar'] == '1~3'))]\n",
    "#acceptance rate\n",
    "percentages_bar_more_than_three = df_bar_more_than_three['Y'].value_counts(normalize=True).mul(100).round(1).astype(str) + '%'\n",
    "print(percentages_bar_more_than_three)"
   ]
  },
  {
   "cell_type": "markdown",
   "metadata": {
    "id": "RBgcQwH4_qRK"
   },
   "source": [
    "The number of people would went to bar few than 3 times has less acceptance of the bar coupon. Specifically only 37% accepted. Of the people who went more than 3 times 76% accepted the coupon."
   ]
  },
  {
   "cell_type": "markdown",
   "metadata": {
    "id": "RBgcQwH4_qRK"
   },
   "source": [
    "4. Compare the acceptance rate between drivers who go to a bar more than once a month and are over the age of 25 to the all others.  Is there a difference?"
   ]
  },
  {
   "cell_type": "code",
   "execution_count": 12,
   "metadata": {
    "id": "bf28bbeX_qRK"
   },
   "outputs": [
    {
     "name": "stdout",
     "output_type": "stream",
     "text": [
      "Y\n",
      "1    67.5%\n",
      "0    32.5%\n",
      "Name: proportion, dtype: object\n",
      "Y\n",
      "1    69.0%\n",
      "0    31.0%\n",
      "Name: proportion, dtype: object\n"
     ]
    }
   ],
   "source": [
    "#bar more than once a month\n",
    "df_bar_more_than_once = df_bar_unique[~((df_bar_unique['Bar'] == 'never')|(df_bar_unique['Bar'] == 'less1'))]\n",
    "#And it with below 25\n",
    "df_bar_more_than_once_below_25 = df_bar_more_than_once[(df_bar_more_than_once['age'] == '21') |(df_bar_more_than_once['age'] == 'below21')]\n",
    "#find more than 25\n",
    "df_bar_more_than_once_above_25 = df_bar_more_than_once[~((df_bar_more_than_once['age'] == '21') |(df_bar_more_than_once['age'] == 'below21'))]\n",
    "#calculate percentages\n",
    "percentages_df_bar_more_than_once_below_25 = df_bar_more_than_once_below_25['Y'].value_counts(normalize=True).mul(100).round(1).astype(str) + '%'\n",
    "percentages_df_bar_more_than_once_above_25 = df_bar_more_than_once_above_25['Y'].value_counts(normalize=True).mul(100).round(1).astype(str) + '%'\n",
    "print(percentages_df_bar_more_than_once_below_25)\n",
    "print(percentages_df_bar_more_than_once_above_25)\n"
   ]
  },
  {
   "cell_type": "markdown",
   "metadata": {
    "id": "S4RKT4PJ_qRK"
   },
   "source": [
    "People who went to bar more than once and below 25 are 67% likely to accept the coupon.  People who went to bar more than once and above 25 are 69% likely to accept the coupon. "
   ]
  },
  {
   "cell_type": "markdown",
   "metadata": {
    "id": "S4RKT4PJ_qRK"
   },
   "source": [
    "5. Use the same process to compare the acceptance rate between drivers who go to bars more than once a month and had passengers that were not a kid and had occupations other than farming, fishing, or forestry."
   ]
  },
  {
   "cell_type": "code",
   "execution_count": 13,
   "metadata": {
    "id": "sENaI2Tg_qRK"
   },
   "outputs": [
    {
     "data": {
      "text/plain": [
       "Y\n",
       "1    68.5%\n",
       "0    31.5%\n",
       "Name: proportion, dtype: object"
      ]
     },
     "execution_count": 13,
     "metadata": {},
     "output_type": "execute_result"
    }
   ],
   "source": [
    "\n",
    "#bar more than once a month\n",
    "df_bar_more_than_once = df_bar_unique[~((df_bar_unique['Bar'] == 'never')|(df_bar_unique['Bar'] == 'less1'))]\n",
    "#not a kid\n",
    "df_bar_more_than_once_not_a_kid = df_bar_more_than_once[~(df_bar_more_than_once['passanger'] == 'Kid(s)')]\n",
    "#occupation logic added\n",
    "df_bar_more_than_once_not_a_kid_occ = df_bar_more_than_once[~((df_bar_more_than_once['occupation'] == 'Farming Fishing & Forestry'))]\n",
    "#calculate percentages\n",
    "percentages_df_bar_more_than_once_not_a_kid_occ = df_bar_more_than_once_not_a_kid_occ['Y'].value_counts(normalize=True).mul(100).round(1).astype(str) + '%'\n",
    "percentages_df_bar_more_than_once_not_a_kid_occ\n"
   ]
  },
  {
   "cell_type": "markdown",
   "metadata": {
    "id": "n2LIUTil_qRK"
   },
   "source": [
    "68% of the folks accepted the coupon when the passenger was not a kid and they go to bar more than once a month.\n",
    "\n"
   ]
  },
  {
   "cell_type": "markdown",
   "metadata": {
    "id": "n2LIUTil_qRK"
   },
   "source": [
    "6. Compare the acceptance rates between those drivers who:\n",
    "\n",
    "- go to bars more than once a month, had passengers that were not a kid, and were not widowed *OR*\n",
    "- go to bars more than once a month and are under the age of 30 *OR*\n",
    "- go to cheap restaurants more than 4 times a month and income is less than 50K.\n",
    "\n"
   ]
  },
  {
   "cell_type": "code",
   "execution_count": 14,
   "metadata": {
    "id": "aK_wEzx7_qRK"
   },
   "outputs": [
    {
     "name": "stdout",
     "output_type": "stream",
     "text": [
      "Y\n",
      "1    70.9%\n",
      "0    29.1%\n",
      "Name: proportion, dtype: object\n",
      "Y\n",
      "1    72.0%\n",
      "0    28.0%\n",
      "Name: proportion, dtype: object\n",
      "Y\n",
      "0    54.4%\n",
      "1    45.6%\n",
      "Name: proportion, dtype: object\n",
      "Y\n",
      "1    58.7%\n",
      "0    41.3%\n",
      "Name: proportion, dtype: object\n"
     ]
    }
   ],
   "source": [
    "#- go to bars more than once a month, had passengers that were not a kid, and were not widowed \n",
    "df_bar_more_than_once_not_a_kid_widowed = df_bar_more_than_once_not_a_kid[~(df_bar_more_than_once_not_a_kid['maritalStatus'] == 'Widowed')]\n",
    "#this gives insight into first logic\n",
    "df_bar_eval1 = df_bar_more_than_once_not_a_kid_widowed['Y'].value_counts(normalize=True).mul(100).round(1).astype(str) + '%'\n",
    "print(df_bar_eval1)\n",
    "#- go to bars more than once a month and are under the age of 30 \n",
    "df_bar_more_than_once_below_30 = df_bar_more_than_once[(df_bar_more_than_once['age'] == '26')|(df_bar_more_than_once['age'] == '21') |(df_bar_more_than_once['age'] == 'below21')]\n",
    "#this gives insight into second logic\n",
    "df_bar_eval2 = df_bar_more_than_once_below_30['Y'].value_counts(normalize=True).mul(100).round(1).astype(str) + '%'\n",
    "print(df_bar_eval2)\n",
    "#- go to cheap restaurants more than 4 times a month and income is less than 50K.\n",
    "cheap_restaurant = df_bar_unique[(df_bar_unique['RestaurantLessThan20'] == '4~8')|(df_bar_unique['RestaurantLessThan20'] == 'gt8')]\n",
    "income_greater_than_50k = cheap_restaurant[(cheap_restaurant['income'] == '$25000 - $37499')|(cheap_restaurant['income'] == '$37500 - $49999')|(cheap_restaurant['income'] == 'Less than $12500')|(cheap_restaurant['income'] == '$12500 - $24999')]\n",
    "#this gives insight into third logic\n",
    "df_bar_eval3 = income_greater_than_50k['Y'].value_counts(normalize=True).mul(100).round(1).astype(str) + '%'\n",
    "print(df_bar_eval3)\n",
    "merged_df = pd.merge(df_bar_more_than_once_not_a_kid_widowed, df_bar_more_than_once_below_30, how='outer')\n",
    "merged_df_final = pd.merge(merged_df, income_greater_than_50k, how='outer')\n",
    "#final OR all the conditions.\n",
    "df_bar_eval_final = merged_df_final['Y'].value_counts(normalize=True).mul(100).round(1).astype(str) + '%'\n",
    "print(df_bar_eval_final)"
   ]
  },
  {
   "cell_type": "markdown",
   "metadata": {
    "id": "v3fL3QkO_qRK"
   },
   "source": [
    "58% folks accepted the coupon when they go to bar once a month, even if they go to cheap restaurants and income is less than 50k. This means if someone is going to the bar once a month and they are given a coupon they will likely take it."
   ]
  },
  {
   "cell_type": "markdown",
   "metadata": {
    "id": "v3fL3QkO_qRK"
   },
   "source": [
    "7.  Based on these observations, what do you hypothesize about drivers who accepted the bar coupons?"
   ]
  },
  {
   "cell_type": "markdown",
   "metadata": {
    "id": "v3fL3QkO_qRK"
   },
   "source": [
    "If someone goes to the bar more than 3 times a month, they are very likely to accept the coupon. Other factors don't play as much of a role.\n",
    "If the passenger is not a kid they are more likely to accept the coupon\n",
    "The number of people would went to bar few than 3 times has less acceptance of the bar coupon. Specifically only 37% accepted. Of the people who went more than 3 times 76% accepted the coupon."
   ]
  },
  {
   "cell_type": "code",
   "execution_count": null,
   "metadata": {
    "id": "Y48naDFh_qRL"
   },
   "outputs": [],
   "source": []
  },
  {
   "cell_type": "markdown",
   "metadata": {
    "id": "r4Hu1zOb_qRL"
   },
   "source": [
    "### Independent Investigation\n",
    "\n",
    "Using the bar coupon example as motivation, you are to explore one of the other coupon groups and try to determine the characteristics of passengers who accept the coupons.  "
   ]
  },
  {
   "cell_type": "code",
   "execution_count": 15,
   "metadata": {
    "id": "0c71cQhu_qRL"
   },
   "outputs": [
    {
     "name": "stdout",
     "output_type": "stream",
     "text": [
      "<class 'pandas.core.frame.DataFrame'>\n",
      "Index: 3809 entries, 23 to 12681\n",
      "Data columns (total 25 columns):\n",
      " #   Column                Non-Null Count  Dtype \n",
      "---  ------                --------------  ----- \n",
      " 0   destination           3809 non-null   object\n",
      " 1   passanger             3809 non-null   object\n",
      " 2   weather               3809 non-null   object\n",
      " 3   temperature           3809 non-null   int64 \n",
      " 4   time                  3809 non-null   object\n",
      " 5   coupon                3809 non-null   object\n",
      " 6   expiration            3809 non-null   object\n",
      " 7   gender                3809 non-null   object\n",
      " 8   age                   3809 non-null   object\n",
      " 9   maritalStatus         3809 non-null   object\n",
      " 10  has_children          3809 non-null   int64 \n",
      " 11  education             3809 non-null   object\n",
      " 12  occupation            3809 non-null   object\n",
      " 13  income                3809 non-null   object\n",
      " 14  Bar                   3809 non-null   object\n",
      " 15  CoffeeHouse           3809 non-null   object\n",
      " 16  CarryAway             3809 non-null   object\n",
      " 17  RestaurantLessThan20  3809 non-null   object\n",
      " 18  Restaurant20To50      3809 non-null   object\n",
      " 19  toCoupon_GEQ5min      3809 non-null   int64 \n",
      " 20  toCoupon_GEQ15min     3809 non-null   int64 \n",
      " 21  toCoupon_GEQ25min     3809 non-null   int64 \n",
      " 22  direction_same        3809 non-null   int64 \n",
      " 23  direction_opp         3809 non-null   int64 \n",
      " 24  Y                     3809 non-null   int64 \n",
      "dtypes: int64(8), object(17)\n",
      "memory usage: 773.7+ KB\n"
     ]
    }
   ],
   "source": [
    "#Get the rows with \"Bar\" value for coupon\n",
    "df_coffee =  df_with_null[df_with_null['coupon'] == 'Coffee House']\n",
    "#we take unique values, as our decision making will be influenced in this case\n",
    "df_coffee_unique = df_coffee.dropna()\n",
    "df_coffee_unique.info()"
   ]
  },
  {
   "cell_type": "code",
   "execution_count": 16,
   "metadata": {
    "id": "QEsBkvIN_qRL"
   },
   "outputs": [
    {
     "data": {
      "text/plain": [
       "Y\n",
       "0    50.4%\n",
       "1    49.6%\n",
       "Name: proportion, dtype: object"
      ]
     },
     "execution_count": 16,
     "metadata": {},
     "output_type": "execute_result"
    }
   ],
   "source": [
    "#Since the 'Y' column does not have any NULL we can 'df_with_null' dataframe to get proportion.Duplicates are removed\n",
    "percentages_coffee = df_coffee_unique['Y'].value_counts(normalize=True).mul(100).round(1).astype(str) + '%'\n",
    "percentages_coffee"
   ]
  },
  {
   "cell_type": "code",
   "execution_count": 17,
   "metadata": {
    "id": "fTC2WGE3_qRL"
   },
   "outputs": [
    {
     "name": "stdout",
     "output_type": "stream",
     "text": [
      "Y\n",
      "0    55.5%\n",
      "1    44.5%\n",
      "Name: proportion, dtype: object\n",
      "Y\n",
      "1    67.3%\n",
      "0    32.7%\n",
      "Name: proportion, dtype: object\n"
     ]
    }
   ],
   "source": [
    "#Compare the acceptance rate between those who went to a Coffee 3 or fewer times a month to those who went more.\n",
    "#rows with less than three coffee going people.\n",
    "df_coffee_less_than_three = df_coffee_unique[(df_coffee_unique['CoffeeHouse'] == 'never')|(df_coffee_unique['CoffeeHouse'] == 'less1')|(df_coffee_unique['CoffeeHouse'] == '1~3')]\n",
    "#acceptance rate\n",
    "percentages_coffee_less_than_three = df_coffee_less_than_three['Y'].value_counts(normalize=True).mul(100).round(1).astype(str) + '%'\n",
    "print(percentages_coffee_less_than_three)\n",
    "#this code does negative of above logic to get all rows with more than three coffee going people\n",
    "df_coffee_more_than_three = df_coffee_unique[~((df_coffee_unique['CoffeeHouse'] == 'never')|(df_coffee_unique['CoffeeHouse'] == 'less1')|(df_coffee_unique['CoffeeHouse'] == '1~3'))]\n",
    "#acceptance rate\n",
    "percentage_df_coffee_more_than_three = df_coffee_more_than_three['Y'].value_counts(normalize=True).mul(100).round(1).astype(str) + '%'\n",
    "print(percentage_df_coffee_more_than_three)"
   ]
  },
  {
   "cell_type": "code",
   "execution_count": 18,
   "metadata": {
    "id": "RrqUWn7d_qRL"
   },
   "outputs": [
    {
     "name": "stdout",
     "output_type": "stream",
     "text": [
      "Y\n",
      "1    70.8%\n",
      "0    29.2%\n",
      "Name: proportion, dtype: object\n",
      "Y\n",
      "1    63.9%\n",
      "0    36.1%\n",
      "Name: proportion, dtype: object\n"
     ]
    }
   ],
   "source": [
    "#Compare the acceptance rate between drivers who go to a Coffee House more than once a month and are over the age of 25 to the all others.  Is there a difference?\n",
    "\n",
    "df_coffee_more_than_once = df_coffee_unique[~((df_coffee_unique['CoffeeHouse'] == 'never')|(df_coffee_unique['CoffeeHouse'] == 'less1'))]\n",
    "df_coffee_more_than_once_below_25 = df_coffee_more_than_once[(df_coffee_more_than_once['age'] == '21') |(df_coffee_more_than_once['age'] == 'below21')]\n",
    "percentages_df_coffee_more_than_once_below_25 = df_coffee_more_than_once_below_25['Y'].value_counts(normalize=True).mul(100).round(1).astype(str) + '%'\n",
    "print(percentages_df_coffee_more_than_once_below_25)\n",
    "df_coffee_more_than_once_above_25 = df_coffee_more_than_once[~((df_coffee_more_than_once['age'] == '21') |(df_coffee_more_than_once['age'] == 'below21'))]\n",
    "percentages_df_coffee_more_than_once_above_25 = df_coffee_more_than_once_above_25['Y'].value_counts(normalize=True).mul(100).round(1).astype(str) + '%'\n",
    "print(percentages_df_coffee_more_than_once_above_25)\n"
   ]
  },
  {
   "cell_type": "code",
   "execution_count": 19,
   "metadata": {
    "id": "_oykf8YP_qRL"
   },
   "outputs": [
    {
     "data": {
      "text/plain": [
       "Y\n",
       "1    65.9%\n",
       "0    34.1%\n",
       "Name: proportion, dtype: object"
      ]
     },
     "execution_count": 19,
     "metadata": {},
     "output_type": "execute_result"
    }
   ],
   "source": [
    "#Use the same process to compare the acceptance rate between drivers who go to Coffee House eq or more than once a month and age above 25 and \n",
    "# had passengers that were not a kid and had occupations other than farming, fishing, or forestry.\n",
    "\n",
    "df_coffee_more_than_once = df_coffee_unique[~((df_coffee_unique['CoffeeHouse'] == 'never')|(df_coffee_unique['CoffeeHouse'] == 'less1'))]\n",
    "df_coffee_more_than_once_not_a_kid = df_coffee_more_than_once[~(df_coffee_more_than_once['passanger'] == 'Kid(s)')]\n",
    "df_coffee_more_than_once_not_a_kid_occ = df_coffee_more_than_once[~((df_coffee_more_than_once['occupation'] == 'Farming Fishing & Forestry'))]\n",
    "percentage_df_coffee_more_than_once_not_a_kid_occ = df_coffee_more_than_once_not_a_kid_occ['Y'].value_counts(normalize=True).mul(100).round(1).astype(str) + '%'\n",
    "percentage_df_coffee_more_than_once_not_a_kid_occ\n"
   ]
  },
  {
   "cell_type": "code",
   "execution_count": 20,
   "metadata": {},
   "outputs": [],
   "source": [
    "#Observations:\n",
    "#Coupon acceptance is 50% if we look at all data\n",
    "#If folks go to the coffee shop more than 3 times they are very likely to accept the coupon.\n",
    "#This is true for all ages even though younger people accept the coupon more than older than 25\n",
    "#If the passager is not a kid and they go to coffee shop folks have high likelyhood that they will accept the coupon."
   ]
  },
  {
   "cell_type": "code",
   "execution_count": null,
   "metadata": {},
   "outputs": [],
   "source": []
  },
  {
   "cell_type": "code",
   "execution_count": null,
   "metadata": {},
   "outputs": [],
   "source": []
  },
  {
   "cell_type": "code",
   "execution_count": null,
   "metadata": {},
   "outputs": [],
   "source": []
  },
  {
   "cell_type": "code",
   "execution_count": null,
   "metadata": {},
   "outputs": [],
   "source": []
  },
  {
   "cell_type": "code",
   "execution_count": null,
   "metadata": {},
   "outputs": [],
   "source": []
  }
 ],
 "metadata": {
  "colab": {
   "provenance": []
  },
  "kernelspec": {
   "display_name": "Python [conda env:base] *",
   "language": "python",
   "name": "conda-base-py"
  },
  "language_info": {
   "codemirror_mode": {
    "name": "ipython",
    "version": 3
   },
   "file_extension": ".py",
   "mimetype": "text/x-python",
   "name": "python",
   "nbconvert_exporter": "python",
   "pygments_lexer": "ipython3",
   "version": "3.12.7"
  }
 },
 "nbformat": 4,
 "nbformat_minor": 4
}
